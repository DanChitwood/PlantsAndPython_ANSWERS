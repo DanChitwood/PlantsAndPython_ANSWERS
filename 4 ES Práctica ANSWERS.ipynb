{
 "cells": [
  {
   "cell_type": "markdown",
   "metadata": {},
   "source": [
    "## Práctica con Pandas, Dataframes y Seaborn 🐼"
   ]
  },
  {
   "cell_type": "markdown",
   "metadata": {},
   "source": [
    "\n",
    "---\n",
    "## Exploración de datos\n",
    "\n",
    "### Cargando e inspeccionando los datos\n",
    "\n",
    "Después de visitar Michigan y aprender que se pueden cultivar uvas para vino (¡y que se puede hacer vino!) En un lugar tan frío, decides que te gustaría comenzar un viñedo allí. Has visto los viñedos y sabes que, aunque es posible cultivar uvas de vinificación allí, a veces hace demasiado frío. Uno se pregunta si, debido al cambio climático, Michigan pronto tendrá un clima más cálido y más adecuado para el cultivo de uvas.\n",
    "\n",
    "Sabes que Europa tiene una larga historia de cultivo de uvas y te preguntas si mantuvieron registros que pudieran indicar cómo responden las uvas a los cambios de temperatura. Encuentras un [estudio](https://www.clim-past.net/8/1403/2012/cp-8-1403-2012.pdf) que ha recopilado numerosos registros de fechas de cosecha de uvas durante más de cuatro siglos y también una [base de datos](http://www.climatemonitor.it/?page_id=40210&lang=en) de anomalías de temperatura en Europa que se remontan a 1655.\n",
    "\n",
    "Usando el conjunto de datos proporcionado, `grape_harvest.csv` (descarga [aquí](https://github.com/DanChitwood/PlantsAndPython/blob/master/grape_harvest.csv)), explora cómo la fecha de cosecha de la uva europea cambia con respecto a la temperatura a lo largo de siglos de datos.\n",
    "\n",
    "Para comenzar, importa `pandas` en la celda siguiente: "
   ]
  },
  {
   "cell_type": "code",
   "execution_count": 3,
   "metadata": {},
   "outputs": [],
   "source": [
    "# Importa pandas aquí\n",
    "\n",
    "\n"
   ]
  },
  {
   "cell_type": "code",
   "execution_count": 2,
   "metadata": {},
   "outputs": [],
   "source": [
    "### RESPUESTA ###\n",
    "\n",
    "import pandas as pd"
   ]
  },
  {
   "cell_type": "markdown",
   "metadata": {},
   "source": [
    "Luego, lee en `grape_harvest.csv` usando la función `pd.read_csv()` un marco de datos de pandas."
   ]
  },
  {
   "cell_type": "code",
   "execution_count": 13,
   "metadata": {},
   "outputs": [],
   "source": [
    "# Lee los datos de la cosecha aquí\n",
    "# Coloca grape_harvest.csv en el mismo directorio desde el que estás ejecutando este .ipynb\n",
    "# Si está en un directorio diferente, deberás especificar la ruta al archivo \n",
    "\n",
    "# Alternativamente, puede leer los datos de GitHub usando la siguiente URL:\n",
    "# https://raw.githubusercontent.com/DanChitwood/PlantsAndPython/master/grape_harvest.csv\n",
    "\n",
    "\n",
    "\n"
   ]
  },
  {
   "cell_type": "code",
   "execution_count": 3,
   "metadata": {},
   "outputs": [],
   "source": [
    "### RESPUESTA ###\n",
    "\n",
    "# Lee los datos de la cosecha aquí\n",
    "# data = pd.read_csv(\"grape_harvest.csv\")\n",
    "data = pd.read_csv(\"https://raw.githubusercontent.com/DanChitwood/PlantsAndPython/master/grape_harvest.csv\")"
   ]
  },
  {
   "cell_type": "markdown",
   "metadata": {},
   "source": [
    "Ahora, escribe un código para inspeccionar las propiedades de los datos y luego responde las siguientes preguntas:\n",
    "\n",
    "Usa una función de pandas para mirar las primeras cinco líneas de datos:"
   ]
  },
  {
   "cell_type": "code",
   "execution_count": 6,
   "metadata": {},
   "outputs": [],
   "source": [
    "# Pon tu código aquí\n",
    "\n",
    "\n"
   ]
  },
  {
   "cell_type": "code",
   "execution_count": 4,
   "metadata": {
    "scrolled": true
   },
   "outputs": [
    {
     "data": {
      "text/html": [
       "<div>\n",
       "<style scoped>\n",
       "    .dataframe tbody tr th:only-of-type {\n",
       "        vertical-align: middle;\n",
       "    }\n",
       "\n",
       "    .dataframe tbody tr th {\n",
       "        vertical-align: top;\n",
       "    }\n",
       "\n",
       "    .dataframe thead th {\n",
       "        text-align: right;\n",
       "    }\n",
       "</style>\n",
       "<table border=\"1\" class=\"dataframe\">\n",
       "  <thead>\n",
       "    <tr style=\"text-align: right;\">\n",
       "      <th></th>\n",
       "      <th>year</th>\n",
       "      <th>region</th>\n",
       "      <th>harvest</th>\n",
       "      <th>anomaly</th>\n",
       "    </tr>\n",
       "  </thead>\n",
       "  <tbody>\n",
       "    <tr>\n",
       "      <th>0</th>\n",
       "      <td>1700</td>\n",
       "      <td>alsace</td>\n",
       "      <td>42.9</td>\n",
       "      <td>-0.91</td>\n",
       "    </tr>\n",
       "    <tr>\n",
       "      <th>1</th>\n",
       "      <td>1701</td>\n",
       "      <td>alsace</td>\n",
       "      <td>35.9</td>\n",
       "      <td>-0.76</td>\n",
       "    </tr>\n",
       "    <tr>\n",
       "      <th>2</th>\n",
       "      <td>1702</td>\n",
       "      <td>alsace</td>\n",
       "      <td>45.0</td>\n",
       "      <td>-1.40</td>\n",
       "    </tr>\n",
       "    <tr>\n",
       "      <th>3</th>\n",
       "      <td>1703</td>\n",
       "      <td>alsace</td>\n",
       "      <td>49.4</td>\n",
       "      <td>-1.21</td>\n",
       "    </tr>\n",
       "    <tr>\n",
       "      <th>4</th>\n",
       "      <td>1704</td>\n",
       "      <td>alsace</td>\n",
       "      <td>30.4</td>\n",
       "      <td>-0.44</td>\n",
       "    </tr>\n",
       "  </tbody>\n",
       "</table>\n",
       "</div>"
      ],
      "text/plain": [
       "   year  region  harvest  anomaly\n",
       "0  1700  alsace     42.9    -0.91\n",
       "1  1701  alsace     35.9    -0.76\n",
       "2  1702  alsace     45.0    -1.40\n",
       "3  1703  alsace     49.4    -1.21\n",
       "4  1704  alsace     30.4    -0.44"
      ]
     },
     "execution_count": 4,
     "metadata": {},
     "output_type": "execute_result"
    }
   ],
   "source": [
    "### RESPUESTA ###\n",
    "\n",
    "data.head()"
   ]
  },
  {
   "cell_type": "markdown",
   "metadata": {},
   "source": [
    "Usa una función de pandas para ver las últimas cinco líneas de datos: "
   ]
  },
  {
   "cell_type": "code",
   "execution_count": 17,
   "metadata": {},
   "outputs": [],
   "source": [
    "# Pon tu código aquí\n",
    "\n",
    "\n"
   ]
  },
  {
   "cell_type": "code",
   "execution_count": 5,
   "metadata": {},
   "outputs": [
    {
     "data": {
      "text/html": [
       "<div>\n",
       "<style scoped>\n",
       "    .dataframe tbody tr th:only-of-type {\n",
       "        vertical-align: middle;\n",
       "    }\n",
       "\n",
       "    .dataframe tbody tr th {\n",
       "        vertical-align: top;\n",
       "    }\n",
       "\n",
       "    .dataframe thead th {\n",
       "        text-align: right;\n",
       "    }\n",
       "</style>\n",
       "<table border=\"1\" class=\"dataframe\">\n",
       "  <thead>\n",
       "    <tr style=\"text-align: right;\">\n",
       "      <th></th>\n",
       "      <th>year</th>\n",
       "      <th>region</th>\n",
       "      <th>harvest</th>\n",
       "      <th>anomaly</th>\n",
       "    </tr>\n",
       "  </thead>\n",
       "  <tbody>\n",
       "    <tr>\n",
       "      <th>4727</th>\n",
       "      <td>1873</td>\n",
       "      <td>vendee_poitou_charente</td>\n",
       "      <td>32.0</td>\n",
       "      <td>0.06</td>\n",
       "    </tr>\n",
       "    <tr>\n",
       "      <th>4728</th>\n",
       "      <td>1874</td>\n",
       "      <td>vendee_poitou_charente</td>\n",
       "      <td>2.0</td>\n",
       "      <td>-0.22</td>\n",
       "    </tr>\n",
       "    <tr>\n",
       "      <th>4729</th>\n",
       "      <td>1875</td>\n",
       "      <td>vendee_poitou_charente</td>\n",
       "      <td>29.0</td>\n",
       "      <td>-1.02</td>\n",
       "    </tr>\n",
       "    <tr>\n",
       "      <th>4730</th>\n",
       "      <td>1876</td>\n",
       "      <td>vendee_poitou_charente</td>\n",
       "      <td>32.0</td>\n",
       "      <td>-0.55</td>\n",
       "    </tr>\n",
       "    <tr>\n",
       "      <th>4731</th>\n",
       "      <td>1877</td>\n",
       "      <td>vendee_poitou_charente</td>\n",
       "      <td>34.0</td>\n",
       "      <td>-0.56</td>\n",
       "    </tr>\n",
       "  </tbody>\n",
       "</table>\n",
       "</div>"
      ],
      "text/plain": [
       "      year                  region  harvest  anomaly\n",
       "4727  1873  vendee_poitou_charente     32.0     0.06\n",
       "4728  1874  vendee_poitou_charente      2.0    -0.22\n",
       "4729  1875  vendee_poitou_charente     29.0    -1.02\n",
       "4730  1876  vendee_poitou_charente     32.0    -0.55\n",
       "4731  1877  vendee_poitou_charente     34.0    -0.56"
      ]
     },
     "execution_count": 5,
     "metadata": {},
     "output_type": "execute_result"
    }
   ],
   "source": [
    "### RESPUESTA ###\n",
    "\n",
    "data.tail()"
   ]
  },
  {
   "cell_type": "markdown",
   "metadata": {},
   "source": [
    "Usa una función de pandas para ver un resumen de las estadísticas (como el recuento, el mínimo, el máximo y la media) para columnas con datos continuos:"
   ]
  },
  {
   "cell_type": "code",
   "execution_count": 19,
   "metadata": {},
   "outputs": [],
   "source": [
    "# Pon tu código aquí\n",
    "\n",
    "\n"
   ]
  },
  {
   "cell_type": "code",
   "execution_count": 6,
   "metadata": {},
   "outputs": [
    {
     "data": {
      "text/html": [
       "<div>\n",
       "<style scoped>\n",
       "    .dataframe tbody tr th:only-of-type {\n",
       "        vertical-align: middle;\n",
       "    }\n",
       "\n",
       "    .dataframe tbody tr th {\n",
       "        vertical-align: top;\n",
       "    }\n",
       "\n",
       "    .dataframe thead th {\n",
       "        text-align: right;\n",
       "    }\n",
       "</style>\n",
       "<table border=\"1\" class=\"dataframe\">\n",
       "  <thead>\n",
       "    <tr style=\"text-align: right;\">\n",
       "      <th></th>\n",
       "      <th>year</th>\n",
       "      <th>harvest</th>\n",
       "      <th>anomaly</th>\n",
       "    </tr>\n",
       "  </thead>\n",
       "  <tbody>\n",
       "    <tr>\n",
       "      <th>count</th>\n",
       "      <td>4732.000000</td>\n",
       "      <td>4732.000000</td>\n",
       "      <td>4732.000000</td>\n",
       "    </tr>\n",
       "    <tr>\n",
       "      <th>mean</th>\n",
       "      <td>1832.835376</td>\n",
       "      <td>33.959510</td>\n",
       "      <td>-0.337811</td>\n",
       "    </tr>\n",
       "    <tr>\n",
       "      <th>std</th>\n",
       "      <td>91.713152</td>\n",
       "      <td>11.807714</td>\n",
       "      <td>0.675309</td>\n",
       "    </tr>\n",
       "    <tr>\n",
       "      <th>min</th>\n",
       "      <td>1655.000000</td>\n",
       "      <td>-13.000000</td>\n",
       "      <td>-2.470000</td>\n",
       "    </tr>\n",
       "    <tr>\n",
       "      <th>25%</th>\n",
       "      <td>1762.000000</td>\n",
       "      <td>25.900000</td>\n",
       "      <td>-0.750000</td>\n",
       "    </tr>\n",
       "    <tr>\n",
       "      <th>50%</th>\n",
       "      <td>1834.500000</td>\n",
       "      <td>34.000000</td>\n",
       "      <td>-0.280000</td>\n",
       "    </tr>\n",
       "    <tr>\n",
       "      <th>75%</th>\n",
       "      <td>1903.000000</td>\n",
       "      <td>42.600000</td>\n",
       "      <td>0.060000</td>\n",
       "    </tr>\n",
       "    <tr>\n",
       "      <th>max</th>\n",
       "      <td>2007.000000</td>\n",
       "      <td>75.000000</td>\n",
       "      <td>1.460000</td>\n",
       "    </tr>\n",
       "  </tbody>\n",
       "</table>\n",
       "</div>"
      ],
      "text/plain": [
       "              year      harvest      anomaly\n",
       "count  4732.000000  4732.000000  4732.000000\n",
       "mean   1832.835376    33.959510    -0.337811\n",
       "std      91.713152    11.807714     0.675309\n",
       "min    1655.000000   -13.000000    -2.470000\n",
       "25%    1762.000000    25.900000    -0.750000\n",
       "50%    1834.500000    34.000000    -0.280000\n",
       "75%    1903.000000    42.600000     0.060000\n",
       "max    2007.000000    75.000000     1.460000"
      ]
     },
     "execution_count": 6,
     "metadata": {},
     "output_type": "execute_result"
    }
   ],
   "source": [
    "### RESPUESTA ###\n",
    "\n",
    "data.describe()"
   ]
  },
  {
   "cell_type": "markdown",
   "metadata": {},
   "source": [
    "Utiliza una función de pandas para obtener los nombres de las columnas. "
   ]
  },
  {
   "cell_type": "code",
   "execution_count": 21,
   "metadata": {},
   "outputs": [],
   "source": [
    "# Pon tu código aquí\n",
    "\n",
    "\n"
   ]
  },
  {
   "cell_type": "code",
   "execution_count": 7,
   "metadata": {},
   "outputs": [
    {
     "data": {
      "text/plain": [
       "Index(['year', 'region', 'harvest', 'anomaly'], dtype='object')"
      ]
     },
     "execution_count": 7,
     "metadata": {},
     "output_type": "execute_result"
    }
   ],
   "source": [
    "### RESPUESTA ###\n",
    "\n",
    "data.columns"
   ]
  },
  {
   "cell_type": "markdown",
   "metadata": {},
   "source": [
    "Para una de las columnas que es una variable categórica, usa una función para enumerar todos los niveles para esa variable. "
   ]
  },
  {
   "cell_type": "code",
   "execution_count": 23,
   "metadata": {},
   "outputs": [],
   "source": [
    "# Pon tu código aquí\n",
    "\n",
    "\n"
   ]
  },
  {
   "cell_type": "code",
   "execution_count": 8,
   "metadata": {},
   "outputs": [
    {
     "data": {
      "text/plain": [
       "array(['alsace', 'auvergne', 'auxerre_avalon', 'beaujolais_maconnais',\n",
       "       'bordeaux', 'burgundy', 'champagne_1', 'champagne_2',\n",
       "       'gaillac_south_west', 'germany', 'high_loire_valley',\n",
       "       'ile_de_france', 'jura', 'languedoc', 'low_loire_valley',\n",
       "       'luxembourg', 'maritime_alps', 'northern_italy',\n",
       "       'northern_lorraine', 'northern_rhone_valley', 'savoie',\n",
       "       'southern_lorraine', 'southern_rhone_valley', 'spain',\n",
       "       'switzerland_leman_lake', 'various_south_east',\n",
       "       'vendee_poitou_charente'], dtype=object)"
      ]
     },
     "execution_count": 8,
     "metadata": {},
     "output_type": "execute_result"
    }
   ],
   "source": [
    "### RESPUESTA ###\n",
    "\n",
    "data['region'].unique()"
   ]
  },
  {
   "cell_type": "markdown",
   "metadata": {},
   "source": [
    "Para la variable categórica, también usa una función para determinar cuántas filas hay que representan cada nivel."
   ]
  },
  {
   "cell_type": "code",
   "execution_count": 25,
   "metadata": {},
   "outputs": [],
   "source": [
    "# Pon tu código aquí\n",
    "\n"
   ]
  },
  {
   "cell_type": "code",
   "execution_count": 9,
   "metadata": {},
   "outputs": [
    {
     "data": {
      "text/plain": [
       "switzerland_leman_lake    353\n",
       "burgundy                  350\n",
       "southern_rhone_valley     333\n",
       "jura                      306\n",
       "ile_de_france             302\n",
       "bordeaux                  274\n",
       "alsace                    262\n",
       "languedoc                 233\n",
       "spain                     231\n",
       "low_loire_valley          203\n",
       "champagne_2               183\n",
       "germany                   165\n",
       "northern_italy            156\n",
       "maritime_alps             136\n",
       "auxerre_avalon            128\n",
       "northern_lorraine         127\n",
       "northern_rhone_valley     126\n",
       "savoie                    123\n",
       "southern_lorraine         109\n",
       "luxembourg                107\n",
       "high_loire_valley          92\n",
       "various_south_east         82\n",
       "champagne_1                81\n",
       "auvergne                   80\n",
       "vendee_poitou_charente     75\n",
       "beaujolais_maconnais       73\n",
       "gaillac_south_west         42\n",
       "Name: region, dtype: int64"
      ]
     },
     "execution_count": 9,
     "metadata": {},
     "output_type": "execute_result"
    }
   ],
   "source": [
    "### RESPUESTA ##\n",
    "\n",
    "data['region'].value_counts()"
   ]
  },
  {
   "cell_type": "markdown",
   "metadata": {},
   "source": [
    "¿Cuántas filas hay en este conjunto de datos? "
   ]
  },
  {
   "cell_type": "code",
   "execution_count": 27,
   "metadata": {},
   "outputs": [],
   "source": [
    "# Pon tu código aquí\n",
    "\n",
    "\n"
   ]
  },
  {
   "cell_type": "code",
   "execution_count": 10,
   "metadata": {},
   "outputs": [
    {
     "name": "stdout",
     "output_type": "stream",
     "text": [
      "4732\n"
     ]
    }
   ],
   "source": [
    "### RESPUESTA ###\n",
    "\n",
    "print(len(data))"
   ]
  },
  {
   "cell_type": "markdown",
   "metadata": {},
   "source": [
    "¡Felicitaciones por leer los datos y explorar su estructura! En la siguiente actividad, exploraremos la relación entre las fechas de cosecha de la uva y el clima. "
   ]
  }
 ],
 "metadata": {
  "kernelspec": {
   "display_name": "Python 3",
   "language": "python",
   "name": "python3"
  },
  "language_info": {
   "codemirror_mode": {
    "name": "ipython",
    "version": 3
   },
   "file_extension": ".py",
   "mimetype": "text/x-python",
   "name": "python",
   "nbconvert_exporter": "python",
   "pygments_lexer": "ipython3",
   "version": "3.7.3"
  }
 },
 "nbformat": 4,
 "nbformat_minor": 4
}
